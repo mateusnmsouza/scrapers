{
 "cells": [
  {
   "cell_type": "markdown",
   "metadata": {},
   "source": [
    "## Python 3 code to scrape electricity usage data from ComEd\n",
    "\n",
    "The following code cell is the preamble to load required packages:"
   ]
  },
  {
   "cell_type": "code",
   "execution_count": null,
   "metadata": {},
   "outputs": [],
   "source": [
    "from selenium import webdriver\n",
    "from selenium.webdriver.common.keys import Keys\n",
    "from datetime import datetime\n",
    "from selenium.webdriver.chrome.options import Options\n",
    "import time\n",
    "import pandas\n",
    "import shutil\n",
    "import os\n",
    "import os.path\n",
    "import sys"
   ]
  },
  {
   "cell_type": "markdown",
   "metadata": {},
   "source": [
    "Define the file paths where data will be saved, or loaded from:"
   ]
  },
  {
   "cell_type": "code",
   "execution_count": null,
   "metadata": {},
   "outputs": [],
   "source": [
    "driver_path = 'C:/Users/Mateus/Documents/chromedriver_win32/chromedriver'    # path where Chrome Driver is saved\n",
    "account_list = 'C:/Users/Mateus/OneDrive/Documentos/AnacondaProjects/ComedScraper_030219/FaultyAccounts1.csv'  # path to csv with utility account numbers\n",
    "faulty_accts = 'C:/Users/Mateus/OneDrive/Documentos/AnacondaProjects/ComedScraper_030219/FaultyAccounts2.txt'    # where faulty accounts will be stored\n",
    "results_path = 'C:/Users/Mateus/OneDrive/Documentos/AnacondaProjects/ComedScraper_030219/Results/'    # where results of non-faulty accounts will be stored\n",
    "download_path = 'C:/Users/Mateus/Downloads/'    # where the Chrome Driver downloads files"
   ]
  },
  {
   "cell_type": "markdown",
   "metadata": {},
   "source": [
    "Function that defines the actual scraper. This uses ChromeDriver, which should be installed in your system:"
   ]
  },
  {
   "cell_type": "code",
   "execution_count": null,
   "metadata": {},
   "outputs": [],
   "source": [
    "def downCSV( accnNum ):\n",
    "    url = \"https://secure.comed.com/MyAccount/MyService/Pages/UsageDataTool.aspx\"\n",
    "    try:\n",
    "        options = Options()\n",
    "#        options.add_argument(\"--start-minimized\")\n",
    "#        options.add_argument('--headless')\n",
    "#        options.add_argument('--no-sandbox')\n",
    "#        driver.set_page_load_timeout(20.0)\n",
    "        driver = webdriver.Chrome(driver_path, options=options)\n",
    "        driver.get(url)\n",
    "        try:\n",
    "            button = driver.find_element_by_id(\"ctl00_ctl00_ContentPlaceHolderMain_FeaturedContentZone_ctl00_ctl00_RequestOption_0\")\n",
    "            button.click()\n",
    "        except:\n",
    "            print(\"Request Option Fail\")\n",
    "            driver.quit()\n",
    "        try:\n",
    "            textField = driver.find_element_by_id(\"AccountNumber\")\n",
    "            textField.send_keys(accnNum)\n",
    "            addButton = driver.find_element_by_id(\"ctl00_ctl00_ContentPlaceHolderMain_FeaturedContentZone_ctl00_ctl00_Addbtn\")\n",
    "            addButton.click()\n",
    "        except:\n",
    "            print(\"Add Account Fail\")\n",
    "            driver.quit()\n",
    "        try:\n",
    "            downloadFile = driver.find_element_by_id(\"ctl00_ctl00_ContentPlaceHolderMain_FeaturedContentZone_ctl00_ctl00_Downloadbtn\")\n",
    "            downloadFile.click()\n",
    "        except:\n",
    "            print(\"Download File Fail\")\n",
    "            driver.quit()\n",
    "        time.sleep(1.0)\n",
    "        driver.quit()\n",
    "    except:\n",
    "        print(\"Load Fail\")\n",
    "        driver.quit()"
   ]
  },
  {
   "cell_type": "markdown",
   "metadata": {},
   "source": [
    "Define function to grab the account numbers from the source file:"
   ]
  },
  {
   "cell_type": "code",
   "execution_count": null,
   "metadata": {},
   "outputs": [],
   "source": [
    "def grabAccNums():\n",
    "    fields = [\"accountnumber\"]\n",
    "    accNums = pandas.read_csv(account_list, usecols=fields, dtype=str)\n",
    "    return(accNums)"
   ]
  },
  {
   "cell_type": "markdown",
   "metadata": {},
   "source": [
    "Code to actually run the scraper, storing results into the specified filepath:"
   ]
  },
  {
   "cell_type": "code",
   "execution_count": null,
   "metadata": {
    "scrolled": true
   },
   "outputs": [],
   "source": [
    "file = open(faulty_accts, 'a')\n",
    "accNums = grabAccNums()\n",
    "for i in range(0, len(accNums)):\n",
    "    downCSV(accNums.accountnumber[i])\n",
    "    exists = os.path.isfile(download_path + 'SummaryUsageData.zip')\n",
    "    if exists:\n",
    "        stringAccount = str(accNums.accountnumber[i]) + '.zip'\n",
    "        shareName = results_path + stringAccount\n",
    "        shutil.move(download_path + 'SummaryUsageData.zip', shareName)\n",
    "        print(str(accNums.accountnumber[i])+ \" SUCCESS\")\n",
    "    else:\n",
    "        print(str(accNums.accountnumber[i])+ \"  FAIL\")\n",
    "        file.write(str(accNums.accountnumber[i]) + \"\\n\")\n",
    "        file.close()\n",
    "        file = open(faulty_accts, 'a')\n",
    "file.close()"
   ]
  },
  {
   "cell_type": "code",
   "execution_count": null,
   "metadata": {},
   "outputs": [],
   "source": [
    "file.close()"
   ]
  },
  {
   "cell_type": "code",
   "execution_count": null,
   "metadata": {},
   "outputs": [],
   "source": []
  },
  {
   "cell_type": "code",
   "execution_count": null,
   "metadata": {},
   "outputs": [],
   "source": [
    "accNums = grabAccNums()\n",
    "print(accNums.accountnumber[0])"
   ]
  },
  {
   "cell_type": "code",
   "execution_count": null,
   "metadata": {},
   "outputs": [],
   "source": []
  }
 ],
 "metadata": {
  "kernelspec": {
   "display_name": "Python 3",
   "language": "python",
   "name": "python3"
  },
  "language_info": {
   "codemirror_mode": {
    "name": "ipython",
    "version": 3
   },
   "file_extension": ".py",
   "mimetype": "text/x-python",
   "name": "python",
   "nbconvert_exporter": "python",
   "pygments_lexer": "ipython3",
   "version": "3.7.0"
  }
 },
 "nbformat": 4,
 "nbformat_minor": 2
}
