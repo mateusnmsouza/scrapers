{
 "cells": [
  {
   "cell_type": "markdown",
   "metadata": {},
   "source": [
    "## Python 3 code to scrape data from Bolsa Familia\n",
    "\n",
    "The following code cell is the preamble to load required packages:"
   ]
  },
  {
   "cell_type": "code",
   "execution_count": 1,
   "metadata": {},
   "outputs": [],
   "source": [
    "from selenium import webdriver\n",
    "from selenium.webdriver.common.keys import Keys\n",
    "from datetime import datetime\n",
    "from selenium.webdriver.chrome.options import Options\n",
    "from selenium.webdriver.support.ui import Select\n",
    "import time\n",
    "import pandas\n",
    "import shutil\n",
    "import os\n",
    "import os.path\n",
    "import sys"
   ]
  },
  {
   "cell_type": "markdown",
   "metadata": {},
   "source": [
    "Define the file paths where data will be saved, or loaded from:"
   ]
  },
  {
   "cell_type": "code",
   "execution_count": 2,
   "metadata": {},
   "outputs": [],
   "source": [
    "driver_path = 'C:/Users/Mateus/Documents/chromedriver_win32/chromedriver'    # path where Chrome Driver is saved\n",
    "municipio_list = 'C:/Users/Mateus/OneDrive/Documentos/UIUC/Cars in Brazil/Bolsa Familia/municipios.csv'  # path to csv with municipio code numbers\n",
    "#faulty_accts = 'C:/Users/Mateus/OneDrive/Documentos/UIUC/Cars in Brazil/Datasus/FaultyAccounts.txt'    # where faulty accounts will be stored\n",
    "#results_path = 'C:/Users/Mateus/OneDrive/Documentos/UIUC/Cars in Brazil/Datasus/Results/'    # where results of non-faulty accounts will be stored\n",
    "#download_path = 'C:/Users/Mateus/Downloads/'    # where the Chrome Driver downloads files"
   ]
  },
  {
   "cell_type": "markdown",
   "metadata": {},
   "source": [
    "Function that defines the actual scraper. This uses ChromeDriver, which should be installed in your system:"
   ]
  },
  {
   "cell_type": "code",
   "execution_count": 3,
   "metadata": {},
   "outputs": [],
   "source": [
    "def downCSV(municipio, year, month):\n",
    "    url = \"http://www.transparencia.gov.br/api-de-dados/bolsa-familia-por-municipio?mesAno=\" + year + month + \"&codigoIbge=\" + municipio + \"&pagina=1\"\n",
    "    try:\n",
    "        options = Options()\n",
    "#        options.add_argument(\"--start-minimized\")\n",
    "#        options.add_argument('--headless')\n",
    "#        options.add_argument('--no-sandbox')\n",
    "#        driver.set_page_load_timeout(20.0)\n",
    "        driver = webdriver.Chrome(driver_path, options=options)\n",
    "        driver.get(url)\n",
    "        try:\n",
    "            select = Select(driver.find_element_by_name('Coluna'))\n",
    "            select.select_by_value('Grupo_de_Causas')\n",
    "        except:\n",
    "            print(\"Column Organization Fail\")\n",
    "            driver.quit()\n",
    "        try:\n",
    "            select = Select(driver.find_element_by_name('Incremento'))\n",
    "            select.select_by_value(outcome)\n",
    "        except:\n",
    "            print(\"Outcome Selection Fail\")\n",
    "            driver.quit()\n",
    "        try:\n",
    "            select = Select(driver.find_element_by_name('Arquivos'))\n",
    "            select.deselect_all()\n",
    "            select.select_by_value('fr'+ state + year + month + '.dbf')\n",
    "        except:\n",
    "            print(\"File Not Found\")\n",
    "            driver.quit()\n",
    "        try:\n",
    "            opencatbtn = driver.find_element_by_id('fig11')\n",
    "            opencatbtn.click()\n",
    "        except:\n",
    "            print(\"Open Selection Fail\")\n",
    "            driver.quit()\n",
    "#        try:\n",
    "#            select2 = Select(driver.find_element_by_name('SCategorias_Causas'))\n",
    "#            for i in range(1, 97):\n",
    "#                select2.select_by_value(str(i))\n",
    "#        except:\n",
    "#            print(\"Category Selection Fail\")\n",
    "#            driver.quit()\n",
    "        try:\n",
    "            showFile = driver.find_element_by_name(\"mostre\")\n",
    "            showFile.click()\n",
    "        except:\n",
    "            print(\"Show File Fail\")\n",
    "            driver.quit()\n",
    "        try:\n",
    "            downloadFile = driver.find_element_by_xpath(\"/html/body/div/div/div[3]/table[1]/tbody/tr/td[1]/a\")\n",
    "            downloadFile.click()\n",
    "        except:\n",
    "            print(\"Download file fail for \" + state + \" \" + month + \"/\" + year)\n",
    "            driver.quit()            \n",
    "        time.sleep(1.0)\n",
    "        driver.quit()\n",
    "    except:\n",
    "        print(\"Load Fail for \" + municipio + \" \" + year + month)\n",
    "        driver.quit()"
   ]
  },
  {
   "cell_type": "code",
   "execution_count": null,
   "metadata": {},
   "outputs": [],
   "source": [
    "# list of states in Brazil\n",
    "states = [\"ac\", \"al\", \"ap\", \"am\", \"ba\", \"ce\", \"df\", \"es\", \"go\", \"ma\", \"mt\", \"ms\",\n",
    "          \"mg\", \"pa\", \"pb\", \"pr\", \"pe\", \"pi\", \"rj\", \"rn\", \"rs\", \"ro\", \"rr\", \"sc\",\n",
    "          \"sp\", \"se\", \"to\", \"ac\", \"al\", \"ap\", \"am\", \"ba\", \"ce\", \"df\", \"es\", \"go\",\n",
    "          \"ma\", \"mt\", \"ms\", \"mg\", \"pa\", \"pb\", \"pr\", \"pe\", \"pi\", \"rj\", \"rn\", \"rs\",\n",
    "          \"ro\", \"rr\", \"sc\", \"sp\", \"se\", \"to\"]"
   ]
  },
  {
   "cell_type": "markdown",
   "metadata": {},
   "source": [
    "Code to actually run the scraper, storing results into the specified filepath:"
   ]
  },
  {
   "cell_type": "code",
   "execution_count": 4,
   "metadata": {
    "scrolled": true
   },
   "outputs": [],
   "source": [
    "states = [\"mt\", \"ms\", \"mg\", \"pa\", \"pb\", \"pr\", \"pe\", \"pi\", \"rj\", \"rn\", \"rs\",\n",
    "          \"ro\", \"rr\", \"sc\", \"sp\", \"se\", \"to\"]\n",
    "outcome = \"Internações\"\n",
    "year = [\"08\", \"09\", \"10\", \"11\", \"12\", \"13\", \"14\", \"15\", \"16\", \"17\", \"18\"]\n",
    "month = [\"01\", \"02\", \"03\", \"04\", \"05\", \"06\", \"07\", \"08\", \"09\", \"10\", \"11\", \"12\"]\n",
    "for x in states:\n",
    "    for i in month:\n",
    "        for j in year:\n",
    "            downCSV(state=x, year=j, month=i, outcome=outcome)"
   ]
  },
  {
   "cell_type": "code",
   "execution_count": 23,
   "metadata": {},
   "outputs": [],
   "source": [
    "url = \"http://www.transparencia.gov.br/api-de-dados/bolsa-familia-por-municipio?mesAno=201301&codigoIbge=1100015&pagina=1\"\n",
    "options = Options()\n",
    "driver = webdriver.Chrome(driver_path, options=options)\n",
    "driver.get(url)\n",
    "element = driver.find_element_by_css_selector(\"pre\")\n",
    "html = driver.execute_script(\"return arguments[0].innerHTML;\", element)\n",
    "driver.quit()"
   ]
  },
  {
   "cell_type": "code",
   "execution_count": 24,
   "metadata": {},
   "outputs": [
    {
     "name": "stdout",
     "output_type": "stream",
     "text": [
      "[{\"id\":27006836,\"dataReferencia\":\"01/01/2013\",\"municipio\":{\"codigoIBGE\":\"1100015\",\"nomeIBGE\":\"ALTA FLORESTA D'OESTE\",\"pais\":\"BRASIL\",\"uf\":{\"sigla\":\"RO\",\"nome\":\"RONDÔNIA\"}},\"tipo\":{\"id\":1,\"descricao\":\"Bolsa Família\",\"descricaoDetalhada\":\"Bolsa Família\"},\"valor\":279192.00,\"quantidadeBeneficiados\":1607}]\n"
     ]
    }
   ],
   "source": [
    "print(html)"
   ]
  },
  {
   "cell_type": "code",
   "execution_count": null,
   "metadata": {},
   "outputs": [],
   "source": []
  }
 ],
 "metadata": {
  "kernelspec": {
   "display_name": "Python 3",
   "language": "python",
   "name": "python3"
  },
  "language_info": {
   "codemirror_mode": {
    "name": "ipython",
    "version": 3
   },
   "file_extension": ".py",
   "mimetype": "text/x-python",
   "name": "python",
   "nbconvert_exporter": "python",
   "pygments_lexer": "ipython3",
   "version": "3.7.0"
  }
 },
 "nbformat": 4,
 "nbformat_minor": 2
}
